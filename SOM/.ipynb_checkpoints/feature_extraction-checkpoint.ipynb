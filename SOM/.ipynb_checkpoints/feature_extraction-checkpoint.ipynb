{
 "cells": [
  {
   "cell_type": "markdown",
   "metadata": {
    "deletable": true,
    "editable": true
   },
   "source": [
    "# 特徴エンジニアリング\n",
    "- Pre-trained Convolutional Neural Networkを使って特徴量を取り出す\n",
    "- Pre-trained Netは、スペクトログラム画像(256x256)から音楽ジャンル分類(10genre)するように訓練済み\n",
    "- GTZANで学習したCNNをX Japanの楽曲の可視化のために転移学習させる\n",
    "- kohonen(R)用にデータをcsvに書き出す"
   ]
  },
  {
   "cell_type": "markdown",
   "metadata": {
    "deletable": true,
    "editable": true
   },
   "source": [
    "## フレームワーク\n",
    "- Caffeを使用する"
   ]
  },
  {
   "cell_type": "code",
   "execution_count": 1,
   "metadata": {
    "collapsed": false,
    "deletable": true,
    "editable": true
   },
   "outputs": [],
   "source": [
    "import os\n",
    "import numpy as np\n",
    "import matplotlib.pyplot as plt\n",
    "import caffe\n",
    "%matplotlib inline"
   ]
  },
  {
   "cell_type": "markdown",
   "metadata": {
    "deletable": true,
    "editable": true
   },
   "source": [
    "## Network In Network(改)をPre-trained Netとして用意した\n",
    "- GTZANのaccuracyは72.9%"
   ]
  },
  {
   "cell_type": "code",
   "execution_count": 2,
   "metadata": {
    "collapsed": false,
    "deletable": true,
    "editable": true
   },
   "outputs": [],
   "source": [
    "caffe.set_mode_cpu()\n",
    "\n",
    "# Network-in-Network\n",
    "model_def = '../model/nin_deploy.prototxt'\n",
    "model_weights = '../model/nin_iter_40000.caffemodel'\n",
    "\n",
    "net = caffe.Classifier(model_def, model_weights, channel_swap=[0], image_dims=(256, 256))"
   ]
  },
  {
   "cell_type": "markdown",
   "metadata": {
    "deletable": true,
    "editable": true
   },
   "source": [
    "# Network In Network（改）\n",
    "- Net-in-Netベース\n",
    "- 少し浅くした\n",
    "- 転移学習のためにFCを追加（Global Average Pooling層から特徴抽出）\n",
    "- Global Average Poolingのユニットを100に増やした（100次元特徴量が得られる）\n",
    "![net_in_net](../model/model_nin.png)"
   ]
  },
  {
   "cell_type": "markdown",
   "metadata": {
    "deletable": true,
    "editable": true
   },
   "source": [
    "# ネットワークの構成\n",
    "- 転移学習時には、Net-in-Netのpool3層(100次元)を使う"
   ]
  },
  {
   "cell_type": "code",
   "execution_count": 3,
   "metadata": {
    "collapsed": false,
    "deletable": true,
    "editable": true
   },
   "outputs": [
    {
     "name": "stdout",
     "output_type": "stream",
     "text": [
      "data\t(1, 1, 256, 256)\n",
      "conv1\t(1, 96, 62, 62)\n",
      "cccp1\t(1, 96, 62, 62)\n",
      "cccp2\t(1, 96, 62, 62)\n",
      "pool1\t(1, 96, 31, 31)\n",
      "conv2\t(1, 256, 31, 31)\n",
      "cccp3\t(1, 256, 31, 31)\n",
      "cccp4\t(1, 256, 31, 31)\n",
      "pool2\t(1, 256, 15, 15)\n",
      "conv3\t(1, 384, 15, 15)\n",
      "cccp5\t(1, 384, 15, 15)\n",
      "cccp6\t(1, 100, 15, 15)\n",
      "pool3\t(1, 100, 1, 1)\n",
      "fc\t(1, 10)\n",
      "prob\t(1, 10)\n"
     ]
    }
   ],
   "source": [
    "for layer_name, blob in net.blobs.iteritems():\n",
    "    print layer_name + '\\t' + str(blob.data.shape)"
   ]
  },
  {
   "cell_type": "markdown",
   "metadata": {
    "deletable": true,
    "editable": true
   },
   "source": [
    "## ジャンル分類をしてみる"
   ]
  },
  {
   "cell_type": "code",
   "execution_count": 15,
   "metadata": {
    "collapsed": false,
    "deletable": true,
    "editable": true
   },
   "outputs": [
    {
     "name": "stdout",
     "output_type": "stream",
     "text": [
      "7\n"
     ]
    }
   ],
   "source": [
    "input_image = caffe.io.load_image('../XJAPAN/spc/Kurenai.png', color=False)\n",
    "prediction = net.predict([input_image], False)\n",
    "print prediction[0].argmax()"
   ]
  },
  {
   "cell_type": "markdown",
   "metadata": {
    "deletable": true,
    "editable": true
   },
   "source": [
    "# inferenceしたクラス\n",
    "- 0: blues\n",
    "- 1: classical\n",
    "- 2: country\n",
    "- 3: disco\n",
    "- 4: hiphop\n",
    "- 5: jazz\n",
    "- 6: metal\n",
    "- 7: pop\n",
    "- 8: reggae\n",
    "- 9: rock"
   ]
  },
  {
   "cell_type": "markdown",
   "metadata": {
    "deletable": true,
    "editable": true
   },
   "source": [
    "## 中間層から得られた特徴量を可視化"
   ]
  },
  {
   "cell_type": "code",
   "execution_count": 19,
   "metadata": {
    "collapsed": false,
    "deletable": true,
    "editable": true,
    "scrolled": true
   },
   "outputs": [
    {
     "data": {
      "image/png": "[encoded data removed]",
      "text/plain": [
       "<matplotlib.figure.Figure at 0x7f15a024c2d0>"
      ]
     },
     "metadata": {},
     "output_type": "display_data"
    }
   ],
   "source": [
    "feat = net.blobs['pool3'].data[0]  # Net-in-Net\n",
    "plt.subplot(2, 1, 1)\n",
    "plt.plot(feat.flat)\n",
    "plt.subplot(2, 1, 2)\n",
    "_ = plt.hist(feat.flat[feat.flat > 0], bins=100)"
   ]
  },
  {
   "cell_type": "markdown",
   "metadata": {
    "deletable": true,
    "editable": true
   },
   "source": [
    "## 特徴ベクトル(100次元の内はじめの10個)を表示"
   ]
  },
  {
   "cell_type": "code",
   "execution_count": 22,
   "metadata": {
    "collapsed": false,
    "deletable": true,
    "editable": true
   },
   "outputs": [
    {
     "name": "stdout",
     "output_type": "stream",
     "text": [
      "1\t3.82892036\n",
      "2\t1.89699030\n",
      "3\t5.38839960\n",
      "4\t0.27762192\n",
      "5\t0.03078916\n",
      "6\t0.19834405\n",
      "7\t13.95006084\n",
      "8\t8.74294949\n",
      "9\t0.09754814\n",
      "10\t0.00317587\n"
     ]
    }
   ],
   "source": [
    "feat = net.blobs['pool3'].data[0]  # Net-in-Net\n",
    "i = 1\n",
    "for v in feat:\n",
    "    print str(i) + \"\\t%.8f\" % v\n",
    "    i += 1\n",
    "    if i > 10:\n",
    "        break"
   ]
  },
  {
   "cell_type": "markdown",
   "metadata": {
    "deletable": true,
    "editable": true
   },
   "source": [
    "## CSV書き出し\n",
    "- spc内のスペクトログラム画像から特徴量を取り出し、csvに書き出す\n",
    "- 事前に convert_spc.py でスペクトログラム画像を作っておく"
   ]
  },
  {
   "cell_type": "code",
   "execution_count": 23,
   "metadata": {
    "collapsed": false,
    "deletable": true,
    "editable": true
   },
   "outputs": [],
   "source": [
    "files = os.listdir('../XJAPAN/spc')\n",
    "csv = open('features.csv', 'w')\n",
    "for f in files:\n",
    "    input_image = caffe.io.load_image('../XJAPAN/spc/' + f, color=False)\n",
    "    prediction = net.predict([input_image], False)\n",
    "    feat = net.blobs['pool3'].data[0]  # Net-in-Net\n",
    "    line = f[:-4]\n",
    "    for v in feat:\n",
    "        line += \",%.8f\" % v\n",
    "    line += '\\n'\n",
    "    # print line\n",
    "    csv.write(line)\n",
    "csv.close()"
   ]
  },
  {
   "cell_type": "markdown",
   "metadata": {
    "deletable": true,
    "editable": true
   },
   "source": [
    "## SOMの作成はRで行う"
   ]
  },
  {
   "cell_type": "markdown",
   "metadata": {
    "collapsed": true,
    "deletable": true,
    "editable": true
   },
   "source": [
    "### music_som.R\n",
    "```\n",
    "library(kohonen)\n",
    "data <- read.csv(\"features.csv\", header=F)\n",
    "set.seed(10)\n",
    "music_som <- som(scale(data[,2:101]), grid=somgrid(5, 5, \"hexagonal\"), rlen=3000)\n",
    "\n",
    "#plot(music_som, type=\"changes\", main=\"chage of similarity\")\n",
    "png(\"som.png\")\n",
    "plot(music_som, type=\"mapping\", labels=data[,1], main=\"X Japan SOM\")\n",
    "dev.off()\n",
    "```"
   ]
  },
  {
   "cell_type": "markdown",
   "metadata": {
    "deletable": true,
    "editable": true
   },
   "source": [
    "## Result\n",
    "- 上〜右はバラードっぽい感じがします\n",
    "- 左下は激しそうな気がします\n",
    "- K_p0 ~ K_p4は紅です。曲のなかで変わっていくのがおもしろい\n",
    "---\n",
    "- seed次第でガラッと変わります（それもおもしろいかも？）\n",
    "![som](som.png)"
   ]
  }
 ],
 "metadata": {
  "kernelspec": {
   "display_name": "Python 2",
   "language": "python",
   "name": "python2"
  },
  "language_info": {
   "codemirror_mode": {
    "name": "ipython",
    "version": 2
   },
   "file_extension": ".py",
   "mimetype": "text/x-python",
   "name": "python",
   "nbconvert_exporter": "python",
   "pygments_lexer": "ipython2",
   "version": "2.7.6"
  }
 },
 "nbformat": 4,
 "nbformat_minor": 1
}
